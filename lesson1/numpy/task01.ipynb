{
 "cells": [
  {
   "cell_type": "markdown",
   "id": "b46bb9b2-c7a6-4879-994a-4d6ded59de28",
   "metadata": {},
   "source": [
    "## Задание 1\n",
    "Импортируйте библиотеку Numpy и дайте ей псевдоним np.\n",
    "Создайте массив Numpy под названием a размером 5x2, то есть состоящий из 5 строк и 2 столбцов. Первый столбец должен содержать числа 1, 2, 3, 3, 1, а второй - числа 6, 8, 11, 10, 7. Будем считать, что каждый столбец - это признак, а строка - наблюдение. Затем найдите среднее значение по каждому признаку, используя метод mean массива Numpy. Результат запишите в массив mean_a, в нем должно быть 2 элемента.\n"
   ]
  },
  {
   "cell_type": "code",
   "execution_count": 1,
   "id": "d390e3a1-9c2a-424d-96bb-e02ca2e6aec9",
   "metadata": {},
   "outputs": [],
   "source": [
    "import numpy as np"
   ]
  },
  {
   "cell_type": "markdown",
   "id": "3b69d1e1-5ca9-41c4-ae4c-cdb72a145ccf",
   "metadata": {},
   "source": [
    "каждый столбец - это признак, а строка - наблюдение"
   ]
  },
  {
   "cell_type": "code",
   "execution_count": 2,
   "id": "3db415b0-7082-4a83-835f-2450ff77112c",
   "metadata": {},
   "outputs": [
    {
     "data": {
      "text/plain": [
       "array([[ 1,  6],\n",
       "       [ 2,  8],\n",
       "       [ 3, 11],\n",
       "       [ 3, 10],\n",
       "       [ 1,  7]])"
      ]
     },
     "execution_count": 2,
     "metadata": {},
     "output_type": "execute_result"
    }
   ],
   "source": [
    "a = np.array([[1, 6], [2, 8], [3, 11], [3, 10], [1, 7]])\n",
    "a"
   ]
  },
  {
   "cell_type": "markdown",
   "id": "5d0fc774-7b1b-45fd-9c64-be6bd6bb86bb",
   "metadata": {},
   "source": [
    "среднее значение по каждому признаку"
   ]
  },
  {
   "cell_type": "code",
   "execution_count": 3,
   "id": "afc90f39-4ae3-466d-acf2-0660e5e4cd7d",
   "metadata": {},
   "outputs": [
    {
     "data": {
      "text/plain": [
       "array([2. , 8.4])"
      ]
     },
     "execution_count": 3,
     "metadata": {},
     "output_type": "execute_result"
    }
   ],
   "source": [
    "mean_a = np.mean(a, axis=0)\n",
    "mean_a"
   ]
  },
  {
   "cell_type": "code",
   "execution_count": 4,
   "id": "065c3fd7-b6e4-4ed1-8d80-dabdce322940",
   "metadata": {},
   "outputs": [],
   "source": [
    "np.save('a.npy', a)"
   ]
  },
  {
   "cell_type": "code",
   "execution_count": 5,
   "id": "787014f0-8b77-45d7-a589-913e2e2b038a",
   "metadata": {},
   "outputs": [],
   "source": [
    "np.save('mean_a.npy', mean_a)"
   ]
  }
 ],
 "metadata": {
  "kernelspec": {
   "display_name": "Python 3 (ipykernel)",
   "language": "python",
   "name": "python3"
  },
  "language_info": {
   "codemirror_mode": {
    "name": "ipython",
    "version": 3
   },
   "file_extension": ".py",
   "mimetype": "text/x-python",
   "name": "python",
   "nbconvert_exporter": "python",
   "pygments_lexer": "ipython3",
   "version": "3.8.2"
  }
 },
 "nbformat": 4,
 "nbformat_minor": 5
}
